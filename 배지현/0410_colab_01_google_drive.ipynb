{
  "nbformat": 4,
  "nbformat_minor": 0,
  "metadata": {
    "colab": {
      "name": "0410_colab_01_google_drive.ipynb",
      "provenance": [],
      "collapsed_sections": [],
      "toc_visible": true,
      "include_colab_link": true
    },
    "kernelspec": {
      "name": "python3",
      "display_name": "Python 3"
    }
  },
  "cells": [
    {
      "cell_type": "markdown",
      "metadata": {
        "id": "view-in-github",
        "colab_type": "text"
      },
      "source": [
        "<a href=\"https://colab.research.google.com/github/Jihyeon0928/Grokking-Deep-Learning/blob/master/%EB%B0%B0%EC%A7%80%ED%98%84/0410_colab_01_google_drive.ipynb\" target=\"_parent\"><img src=\"https://colab.research.google.com/assets/colab-badge.svg\" alt=\"Open In Colab\"/></a>"
      ]
    },
    {
      "cell_type": "markdown",
      "metadata": {
        "id": "w9X3L8scMKJ4",
        "colab_type": "text"
      },
      "source": [
        "ㅇ# google drive와 colab연동하기 (기초)\n",
        "\n",
        "## 구글드라이브 마운트 및 구글드라이브 파일 읽기\n",
        "\n",
        "우선 본인의 드라이브 에\n",
        "\n",
        "`[10]Lecuture/MachineLearning/datasets/lifesat/lifesat.csv'`\n",
        "\n",
        "위와 같은 경로가 있어야 함.\n",
        "\n",
        "각자 본인의 경로에 맞게 다음 코드셀의 내용을 바꿀것.\n",
        "\n",
        "> colab의 왼쪽 메뉴에서 `파일`(폴더모양 아이콘)을 클릭하고 **(구글)드라이브 마운트** 를 클릭하여 본인의 구글 드라이브를 마운트! \n",
        "> ![image.png](data:image/png;base64,iVBORw0KGgoAAAANSUhEUgAAAiwAAAFcCAYAAADrveW1AAAgAElEQVR4Ae3debAV1aHvcf68/73/3vvr3nr8QVmpsoqXKn2mDFa8PqWCXi1KI0QM8eF7aCRaEEIihgjRcA36HGIkVgbjNTgEpJQTKnidEgcoRYJBowgoIENkCJNMh+EI69Wvzdr0Xqd77+4+q/feq/vbVZveQ/fqtT5rc/p3Vg9nmGFCAAEEEEAAgcoIfPjhh0aPqk3DqtYg2oMAAggggECdBQgsde592o4AAggggEAgAgSWQDqKaiKAAAIIIFBnAQJLnXuftiOAAAIIIBCIAIElkI6imggggAACCNRZgMBS596n7QgggAACCAQiQGAJpKOoJgIIIIAAAnUWILDUufdpOwIIIIAAAoEIEFgC6SiqiQACCCCAQJ0FCCx17n3ajgACCCCAQCACBJZAOopqIoAAAgggUGcBAkude5+2I4AAAgggEIgAgSWQjqKaCCCAAAII1FmAwFLn3qftCCCAAAIIBCJAYAmko6gmAggggAACdRYgsNS592k7AggggAACgQgQWALpKKqJAAIIIIBAnQV6KbCsW7fO9PX1Gc2HOg0bagGsjwACCCCAAAK9I9BLgWXJkiVm0qRJRvOhTgSWoQqyPgIIIIAAAj0kQGDpoc6gKggggAACCCCQLEBgSXbhXQQQQAABBBDoIQECSw91BlVBAAEEEEAAgWQBAkuyC+8igAACCCBQeQEfV7n4KCMLdDcCi9qmk2vzPvKYcNJtlt5nGQQQQACB2gosX7482hE/8sgjhQ20rnbmKqvsicBStjDlI4AAAggg0GMC7shBkdBiw4odfcgzqlCEoxuBJa2eXNacJsP7CCCAAAIIeBZwA0ee0DKUdYs2g8BSVI71EEAAAQQQCFygSPAoso4PJgKLD0XKQAABBBBAIFCBPAEkz7K+OQgsvkUrVN6iRYvM8OHDzcqVKzO16sSJE+b3v/+9ufLKK82IESOidceMGWP0BT969GhiGXm3kVgIbyKAAAIIDEkgSxDJssyQKtFmZQJLG6A6f5wnTOzevdtMnDgxCikKOe5j9OjRRl82d8qzDXddXiOAAAII+BNoFUhafeavBq1L6qXAohOMdeKtjxONuazZGLNv3z4zduzYQeHBDRPx11pe62nKGib6+/vNjBkzolGVWbNmmY8//ticOnXKnD592uzatcs8+OCD5qyzzjITJkwwe/bsafpGZt1G00q8QAABBBAoRSApmCS9V8rG2xTaS4GlTVVzfTykwKLryWfPnh0dyrBb3bp1q1m/fn3hh7ujtuWWOe9UYFm9erU5++yzzT333GMGBgYGNUnBZeHChVFwWrp0adPnBJYmDl4ggAACXRdwA4q9bFlzfdaticCSIB/vnLfffjtaYt68ebnvdBcvx8efoE6oaqlvZQ0Tv/vd78w555xj3n///dT67Ny501x66aVmzpw5TaEm6zZSC+YDBBBAAAHvAkmhpZthRQ0ksCR085QpUxrhRCMrmggsCVD/eEs2o0aNMh999FHqQna0Z+rUqUaHkOxEYLESzBFAAIHeESCwdK4vhnRISCHlySef7MithjtFomCQFCoUMvS+PnenrGFCIyw6JLRmzRq3iMZrRlgaFDxBAAEEelogKazYIwbdHGVhhKWnvzb+KldmYLHnsNxxxx1Nh3ts7TmHxUowRwABBHpbwA0rep30XjdaQWDphnoXtqnAonujrFq1qmnrPkZY7FVCutpo5syZg64Suv/++6Ntc5VQEz0vEEAAgZ4SaBVMWn3WqUYQWDol3eXtpB3e2bBhgzn//PNbHhJKu+w53iTuwxLX4DkCCCAQlkCWQJJlmTJbTWBJ0NWVQTqRtK+vr/FpiJc1NypvjHn22Wejy4rdu9bqtQKJAo072ZCTJbBoXe506wryGgEEEOh9gTxBJM+yvltOYEkQjV8lVJXLmm0wSQss7vtisYEl6bMEtkJvdWIbhSrGSggggEANBIoEkCLr+KAksCQoElg+RyFMJHw5eAsBBBCoiMBQgsdQ1i3KR2BJkLOHhOI3e9MhIf3NgKKPbtzpNt60To2w2JATP4yU5XmZozhxB54jgAACCJhoX2YvVdZcASTv5IYWH39Xp1UdCCytdCr0mQ0sOpclPtn3kwKDDR9Jn8XLiD+362QJKfFl8mwjvj2eI4AAAggUE9CfoSkaVuwWbWhRWWVPBJayhbtUvi411l1l46Eg63N7gzkbPsoMEypb9SpzG13qAjaLAAII9LyAj1ERH2VkgSKwZFEKcJluBRYbcrKGI7scgSXALxlVRgABBDooQGBJwNb5Kk899ZRZsWJFwqf1ecuGjzxhwq5jg0jWeZ5t1KcHaCkCCCCAgBUgsFiJ2Dx+lZDCiyb++GEMqMVTBRZ7SKnFYnyEAAIIIIBALgECSwJX/MzpqtyHJaGZbd+yoyV5Rj8ILG1ZWQABBBBAoIAAgSUBTWc7z549u+kyr9Ava05oZtu3igaWrIeB4suNHTvW7Nu3r22dWAABBBBAoJ4CBJZ69numVhNYMjGxEAIIIIBABwRsYKnafFgH7Cq/iSKBpfIoNBABBBBAoCsCVQsqtj0Elq58ndgoAggggAAC5QjYHXw5pXevVAJL9+zZMgIIIIAAAt4FCCzeSSkQAQQQQAABBHwLEFh8i1IeAggggAACCHgXILB4J6VABBBAAAEEEPAtQGDxLUp5CCCAAAIIIOBdgMDinZQCEUAAAQQQQMC3AIHFtyjlIYAAAggggIB3AQKLd1IKRAABBBBAAAHfAgQW36KUhwACCCCAAALeBQgs3kkpEAEEEEAAAQR8CxBYfItSHgIIIIAAAgh4FyCweCelQAQQQAABBBDwLUBg8S1KeQgggAACCCDgXYDA4p2UAhFAAAEEEEDAtwCBxbco5SGAAAIIIICAdwECi3dSCkQAAQQQQAAB3wIEFt+ilIcAAggggAAC3gUILN5JKRABBBBAAAEEfAsQWHyLUh4CCCCAAAIIeBcgsHgnpUAEEEAAAQQQ8C1AYPEtSnkIIIAAAggg4F2AwOKdlAIRQAABBBBAwLcAgcW3KOUhgAACCCCAgHcBAot3UgpEAAEEEEAAAd8CBBbfopSHAAIIIIAAAt4Fej2wnD592hR5DPMuRYFDFjh27JhZsmSJ+cY3vmEuuugic8kll5hbbrnFvPXWW+bUqVODyn/ggQfMzJkzjdZjCl9g1apVUb9rrknzsWPHmo0bN4bfuH+0YP/+/ea6664zzzzzTGqbsiyTujIfIFBjgV4LLEXCSdI6BJYe+1Lv3bvXTJs2LQoomzdvjgLKwMBAFFYmTZpkHn74YaPX8YnAEtcI43mrnTGB5fM+bGUURi9TSwS6I9ALgSUpcLjv6RfwPA8CS3e+T4lb/eyzz8zPfvYzM2XKFPPpp58OWkZfwquuusosX7686bN2gUUjLxqB0WhN1keWERv9dpy1PC3X6rfppgbV4EWrnXHewFJG/9r65enfVt+ZrN+V+EiSrQPfmxr8h6CJXgW6GVjcUBJ/nSecaFntE+MPAkvGr8kjjzxi9Chz2rdvn9EoStoPaHXcT37yE3PHHXeYkydPNqrSLrA0Fsz4JGt5qqeG9bVjCX3as2eP0aNTU6udcd7AkrfOWfs3a7k2MLUKLG5Zrdpvl82yjF2WOQIInBHoVmCJhxP7PC2kxINI1ucEljN9nPpMQUVBQo8yQ4vOUdBvmNphpU3a2ST91ptnZ5FWtn0/6w4t9MCybt26aETL9q2da5Rr69atliMa0dKyPqdWO+M6BJbt27eb8ePHm5/+9KfRyXdJtq2MkpbnPQQQ+Fyg04HFhpP43A0qaaFEpzhkfRBY2nzDn3zyyUZYsTs0vVfGxAhLGarJZeqkZtufOgQ3b9686KHn9v2+vr4orOg1gSXZUe/mHWHRD7UnnngiCt7XXnut2blzZ2LhBJZEFt5EoK1AJwNLPKTY5/Gw4gaVpHCiIwZZHgSWFl2vc0Xszsudu+eRtCgm80fq2CznsLz66qtNZbYbEbE/+JNGZtLeyzJiE+oIiw0rCidJ/fjCCy9E5xHF+9x3YPn444+j85HU3+6Ud4SlrP5165X22gYW91Bl2vJvvPGGGTNmjJk/f76ZPHmymTVrljly5MigxW270g6RDlqBNxBAIBLoVGCxAcXOswaVeDg5ceKEyfogsKR8wVuFFbsjS9rZpRSX+e20q4TWrFkThaciVwnZH/wKNj6nEAOLgof6T2ElftjHdXH733dg0SXqF198ceLl6EUDi+/+dU3SXtvA0m77+mH20ksvRWFFQU0/pPSD9eqrrza33367OXz4cNMm7PeWwNLEwgsE2gp0I7CkhRU7opIWUo4fP27aPfQzRg8CS0LXuzsrG1CS5mWEFv0gX7ZsWdN9WLSDXbFiRaH7sNgf/O12KAkULd8KMbBoR6l+bNVvCjLxQ0Na3mdg0W8jv/jFL8yECROik5Z1Pkd8qlpg0Q8y+elyfd1TaNGiRU2X5qv9N954YzTipECjH0ya7PeWwBL/dvAcgfYCnQgsdlRF86Sw4gaV+ChKPKDYMGLn/f39Ju1BYHH6/ujRo9FN23TYQI8ZM2YMOiyk9+znmmudbk4KIq0O4dgf/HUPLOonhQ/1X9qUFFZ8B5Zdu3aZ66+/3rz++uvRTlzhND7ZwBI/XBe/3De+rJ6X1b/udlSvpHrocI7CSNr3Sz+oNDI4e/Zs44Yzuw0b0hVc7A3ybLsILFaJOQLZBMoOLPGwEg8s9nyVpLCikKJQojCin8V66GeHfWiE1T4OHTpkkh4Eljb9r5MxtcOKP/ReSJP9wZ+2QynaFu1I4jvVds9bhaqidciznj0c1OqkaZ2/Eg+j9rmvS571n1snnE6fPj36j/rUU08Nuu+ODSyaa0oLCrbtZfWvLd/O0+pht/+rX/3KLuplbsslsHjhpJAaCXQysNjRlaSwol9EfE4Eljaa3QosaTuHpOpmHWFpFyjcz6u2o7CBRSGkW9O2bduiQ31vvvlmVAWNtnzzm980uiLJTup79YXmmtp9F+yO3e2/dq/z9m9aPXTeldqQtzzbXuYIIOBXoMzAEh9dsWFFcwWW+MiKwopGU3xOBJY2mlUILGlNdHeMactV5X0bWFqNsJTZVg196oqYu+++u+kcDoWVcePGRSegavtuv6QFhXZ1dctpt3y7z9PqsWXLFnPNNdcY9+q1tPIUsNuFqfjnBKE0Sd5HIFmg04ElPrpiT65VWHFPpE+ubfZ3CSxtrAgsbYAC+jjLOSxuczQaEx/9cD/P+lq/beiEX13G+/e//71pNRtk7Gdu0EgLCk2FJLxwy0lYJNdbRevhbqTdiKBd3o4cEVisCHMEsgl0MrDEw4pGWBRYdK6Kwor+D/ucCCxtNLsZWOK/ZbZ7XuT8EN87tDaUPfFxlquEbEXt1WJaZ6iTDpvceeedjVEUtzyFmLlz50Ynpbr9UjQouOW428z7umg93O0QWFwRXiPgV6CswJJ0OCgeWBRWdHKtfgk7ePCg9z93QmBp8z3RVSM6lBB/tLp/R5viMn+cZ+eQdQfgbtz3Ds0tvxdf28NC7e7DEr9aSOt0cnL7Jc93IV5Pt5z4Z0WeF62Hu62s31dGWFw5XiOQTaDTgcWeu2LPW9EVPrpz+yeffJKtwhmXIrBkhOr0Ynl2Dmk7AL3fbmQmy+cqx05llGnL7tRch3l01Ze9t427XX1u78PSjRN03aCR9l0ooy/KKNP11TayjAgSWFw5XiOQTaBTgSVpdEWH3g8cOGB0QYHu6O1zIrA4mjoMoMNAeR6tbkLmFJ/5ZdpOKqmArDuApHXr+p4NLTa4qL91n5D45evdOjk3a2AJte+yfl8JLKH2MPXutkDZgcVeHZQUWOy5Kzt27GjcU8mXB4HFkYzvyOI7r1bPy/gt3O60soyAaJksv7E6Ta39Sx3qsee0xPtX73X6MFC8M2zfa65J86QbtsXXCel53lEcTroNqXepay8IlBFY0s5fSTocpPtW6SaR69ev98pBYHE4Ba2dVZ6Hr5uKOVXhZQcFNIzZq/1YtcDSwW5lUwjUUqDTgcWebKtLmXWyrS4i0HmAa9eu9epPYPHKSWEIIIAAAgh0V6ATgSXpcJANLDp/ZfPmzea9997zCkFg8cpJYQgggAACCHRXoFuBJX7CrQLLX//6V68QBBavnBSGAAIIIIBAdwW6FVh0/xVdIbRz585ohIXA0t3vAVtHAAEEEECgpwXKDCxpVwjp7rbxwLJp0ybz7rvvenVihMUrJ4UhgAACCCDQXYFOBZb4FULxwKJLmoMILLonie5noWNZaZM+0zJl3L8kbZu8jwACCCCAQB0EOhlYdIWQ7nAbXGBRALH3s9CNuNImfWaXI7SkKfE+AggggAAC+QUILG3MdM21DSF5/k5Lu2XbbJaPEUAAAQQQQCAm0M3AojtU9/QhofgfissaQIqsE+sPniKAAAIIIIBAgkAvBJaNGzf23km3QwkeQ1k3oY94CwEEEEAAgdoLEFgSvgI+AoePMhKqxlsIIIAAAgjUUoDA4nS7z6DhsyynmrxEAAEEEECgVgIEFqe7fYYMn2U51eQlAggggAACtRIgsCR0t4+g4aOMhKrxFgIIIIAAArUUILCkdPtQAsdQ1k2pDm8jgAACCCBQawECS4vuLxI8iqzTogp8hAACCCCAAALGGAJLm6/BunXruHFcGyM+RgABBBBAoGwBAksGYW7NnwGJRRBAAAEEEChRgMCSEVehhT9+mBGLxRBAAAEEEPAsQGDxDEpxCCCAAAIIIOBfgMDi35QSEUAAAQQQQMCzAIHFMyjFIYAAAggggIB/AQKLf1NKRAABBBBAAAHPAgQWz6AUhwACCCCAAAL+BQgs/k0pEQEEEEAAAQQ8CxBYPINSHAIIIIAAAgj4FyCw+DelRAQQQAABBBDwLEBg8QxKcQgggAACCCDgX4DA4t+UEhFAAAEEEEDAswCBxTMoxSGAAAIIIICAfwECi39TSkQAAQQQQAABzwIEFs+gFIcAAggggAAC/gUILP5NKbEHBY4dO2ZmzpwZPfTc11RWub7q16qcZ555xowdO9Zs3Lix1WKNz44ePWr6+vrMlClTzJgxY8xFF10UPa688sroL5mvXr3anDp1qrE8TxBAAAGfAlULLNp/vPjii2aYTyTKCl8gT7DQsr/97W/N1VdfHe2QNddr7bDdKU+57rrdfp0nsKxfv958/etfN9OmTTNr1641aredDh48aF566SVz1VVXmTlz5pgjR47Yj5gjgAAC3gSqFFg2bNgQ/cI4fPhwAou3b4jHgrSDtL+VZ5lr+bRp1apVbcuKr581WGhnO2vWLHPLLbeYLVu2mNOnT5tdu3aZW2+9NdpZ7927t6lKWct94IEHzHXXXWf279/ftL77Qp9rOS2fZ7LrtXOVm52yBpZPP/00GlWRS6swsn37dnPttdeaX//615Gb3U7SPEv/xduSZyQoaXu8hwAC4QtUJbAorOjnm8IKgaXN9/LT/l3G7PgPY3Y8NvhxYmebtYt/rB1klp128S18vqYOcWgHVySwPPXUU9FOd+fOZofdu3eb66+/3jz88MPms88+a1Sx1wJLvM2NShoTHfaRSZHA8vbbb5uLL77YvPnmm/EiBz1XuLv33nvNTTfdZDTq0mpSPQghrYT4DAEEXIEqBJY9e/aYCRMmNMIKgcXtZef1NS/9P/Pmyv9tzNsXDn5s/KGztL+XvR5YDhw4YG688Ubz+OOPJzZa9R8/frzRSIKdCCxWwkSjKgSWMx48QwABvwJVCCwLFixoCiv33Xcfh4TSviav71hr/stvvm7+5bFxpn/1JYMDi0LM4TVpqw/p/V4PLO+++665/PLLjeZJ00cffRSNCrz66quNj+sQWHQYTEHO9yEhRlgaXyOeIIBABoHQA4tGnidOnNgILBpp0S/KnHSb0vlfXvL9KLAotPxk2b8lB5YP/m/K2kN7u9cDy/PPPz9oBCXeYnueiNphpzyBJX5ORrvnRc9hidfN1lFze5isyCEhrR8/6XbNmjWNk251GEjnuOQ96TbvOSx5PeJt5zkCCFRDoEhg0UUCGhnXRQNZH1rePvTzTufu6ef/jh07op+lab/UtlN+//33zTnnnNMILIsWLYpWIbAkyD3x4auNsKLAosfWN/9XcmjZ+58JJQztrV4PLO3qZwNLfOeZJ7BkOX8naRtZ1O16ZQUW1cHnZc2cw5KlV1kGAQTiAkUCi9ZfvHhxIyTYE12zzBcuXBj9cuYrsDz77LONeii4KMBoIrDEe9kYc+DEEfMvj18/KLBMWDw2ObC882/GfHbYKWVoL9sFgjylZ/kNPb7ztsEiPrLhHpJoVz8bCqoUWOIeeh43y9MfeZclsOQVY3kEECgaWCSXN7QorJw4ccJrYJk/f34jsGj/s2/fvqhTCSzOd/uuvyweFFY0wnLpsjuM2TA1ObToSiKPU7tAkGdTeXd4NrDo5nF6njTp3BT3pNr4cjawxHfqWcpVGQo5oY+wxC2G+jxv/w11e6yPAALhCwwlsKj1WUOLDtWcPHnSe2CZN29eI7BMnjzZHD78+aAAgSX23dxy+O+JYUWBRZ8ZXcqcdMWQ3vN4mbN29O5v9K1etwoXeXd4WYLFBx98EJ1Um3Z8Up9fdtllTZf3ZilXXaHA0qqt7mfxUZxYV6Y+TQpT8YXznsMiX7dORV6nhbQi5ceDYrxtPEcAgXoIDDWwSKldaHn66afNwMBA6YFl6tSppr+/P+o4Akvs+6vLmO05K/H5rW8+dmap7Q8lh5YSL3M+s/H8z8oILPayZt3VVieTupO9R4tuJGenrIHFLl/W3HdgaVfPXml3u3ryOQIIVEfAR2CRRlpoUVjRfbY6EVhuvvnmxt3TCSz/+I7ay5jjQUXP/3nBpOi8lsZXWeerrLksObSUdJlzY9sFnpQRWFQN/RavM8m3bdvWVCt74zj3Lq69suMmsDR1Fy8QQKCCAr4Ci2jc0KKwor+FVmZgefTRRxuHhDiHJeELevbCmxNHV37+/rLBS+9enBxYSrrMeXAFsr9TVmDR2eD6ezi678jmzZujkRbdKE636k+6D0mvBZZ2h23kZieFM/fEY/tZfJ5k3SvtjteT5wggUG0Bn4FFUja0aK6wUnZgWbZsWSOwjBo1yujeXpoYYTHGKJS4Iyt6rXuxpE4f/J/k0KIw00OTdqLtds72c91fJc8OVmeGL1myhD9++I/+JrD00BefqiBQYwHfgUWU+oVUpwB0IrDobwidf/75jdCydOnSqDcJLMaYpPuuKLD8jzteNxf9+5Fcj+ffHQj6v0mewJKnoWWVm6cORZdlhKWoHOshgEA3BMoILAornQosGsH/1re+1Qgsuustd7qNfZN02XJ8lOWfH/p3c/6MLeYrt+/JHFimPf75mcyxYjM/zXt1jB0Vced5r5pxK1hWsGhVbq+03bWwr4cSWGwZeeZ5RsXc/o+/TrvyKE9dWBYBBMITCD2wSFyjKvGb1t1///0cErJfRfek23NuW2NGfW+LGTVzh/nXHx/KFFrWbDnz14ltuaHNWwWLobSlrHKHUqes63Y6sGStF8shgAACSQJVCCyHDh0yN9xwQ1No4ZBQrLe/9drD0SjLiHsfM1+escV8+dbt5oLbdpqvzNnXNrDMW3o8VlK4T8sKFmWV2wnpPIElPsKR5blGU5gQQAABnwJVCCzy0Lks+jlqR1oGBZbV3/4n4z58QvZyWbo53H9/7Nvmf37vA/Pl7201F8z8m7lg1i7zldl7zL/++HDL0LLz08H3I+nltqbVraxgUVa5ae3w+X7WwOJzm5SFAAIIFBWoSmBR+zdt2mTGjRsXhRYCi/ONeOGve8z8ZfvNw899an7xwiHzq5eOmEf+1G/+47Xj5rHXTyQ+lm8I/1CQw8BLBBBAAIFABaoUWNQFuiL15ZdfHnwOizu6otdMCCCAAAIIIBCGQNUCi1VnhMVKMEcAAQQQQKACAgSWCnQiTUAAAQQQQKDqAlUJLGrHc8891/ibdYywVP2bS/sQQAABBGolUIXAor9LN378eDNy5Mjojuq6wy6BpVZfYxqLAAIIIFB1gSoElr6+PjNixIjo6iDNZ8yYQWCp+heX9iGAAAII1EugCoFlYGDAPPjgg43QonuxMMJSr+8xrUUAAQQQqLhAFQKLukiHgV555RVz4YUXch+Win9naR4CCCCAQA0FqhJYbNdptGXlypWMsFgQ5ggggAACCFRBoGqBxfYJh4SsBHMEEEAAAQQqIEBgqUAn0gQEEEAAAQSqLkBgqXoP0z4EEEAAAQQqIEBgqUAn0gQEEEAAAQSqLkBgqXoP0z4EEEAAAQQqIEBgqUAn0gQEEEAAAQSqLkBgqXoP0z4EEEAAAQQqIEBgqUAn0gQEEEAAAQSqLkBgqXoP0z4EEEAAAQQqIEBgSejEE3u3mB3L5qY+dv/poYS1eAsBBBBAAAEEyhIgsDiy/dvfMau//U9tHx8vmOysyUsEEEAAAQQQKEuAwOLIblv83bZhxQYaQouDx0sEEEAAAQRKEiCwOLDrH7gkc2CxwSXLfMNPR5vP+g84W+MlAggggAACCGQRILA4SmUFFoWa3X/6mbM1XiKAAAIIIIBAFgECi6NkA8vau841hz58zctDZSmwqGwmBBBAAAEEEMgvQGBxzGxg8RkuyijTqTYvEUAAAQQQqLQAgcXp3jLCRRllOtXmJQIIIIAAApUWILA43VtGuCijTKfavEQAAQQQQKDSAgQWp3vLCBdllOlUm5cIIIAAAghUWoDA4nRvGeGijDKdavMSAQQQQACBSgsQWJzuLSNclFGmU21eIoAAAgggUGkBAovTvWWEizLKdKrNSwQQQAABBCotQGBxureMcFFGmU61eYkAAggggEClBQgsTveWES7KKNOpNi8RQAABBBCotACBxeneMsJFGWU61eYlAggggAAClRYgsDjdW0a4KJ6FmukAABRuSURBVKNMp9q8RAABBBBAoNICBBane7ct/m70d3/WzPhvRn9h2cdDZelvCalsJgQQQAABBBDIL0Bgccz6t78ThQsFDJ+PNd/9r0ZlMyGAAAIIIIBAfgECS4LZib1bzCd/+LHXh8qs07R8+XIzY8YMM2nSpNTHlClTzNatW+vEQlsRQAABBAoKEFgKwrFauoBCSKugEv+M0JLuyCcIIIAAAmcECCxnLHjmSWDJkiWZA4vCi0JLX19fpseKFSvM0aNHPdWUYhBAAAEEQhEgsITSUwHVM29giY+4ZHk+e/ZsQktA3weqigACCPgQILD4UKSMJoGyA4tCjc6RYUIAAQQQqI8AgaU+fd2xlrYLLBohWbduXXQoKMuIStIy2gYTAggggEB9BAgs9enrjrW0VWCJH87Rybk6fyUpkLR7j8DSse5kQwgggEBPCBBYeqIbqlWJtMASDyu2xUVDC4HFCjJHAAEE6iFAYKlHP3e0lUmBJSms2EoVCS0EFqvHHAEEEKiHQBUDy8DAgBnmdl/SXWvdZXjtR8ANLK3Cit1i3tBCYLFyzBFAAIF6CFQtsGzbts1MmDCBwNLNr288sGQJK7aueUILgcWqMUcAAQTqIVClwLJ7924zfvx4M2LECAJLN7++bmCZN2+e0ePJJ58cVC2FFPu55u1u529PxiWwDKLkDQQQQKDSAlUKLAsWLIjCysKFCwks3fzWxgOLDRiaK5C4ky5vji+T9XmewHLq1Clz4MABc+LEiabN9/f3m4MHD5rTp083vc8LBBBAAIHeE6hKYDl+/LiZPn26ueKKK8yePXsILN38qvVaYHn++eejJHv77bc3QsuhQ4fMddddZ0aOHGnefffdbnKxbQQQQACBDAIElgxILJJPoNcCy8qVK82XvvQl89BDDxmdka1JoyszZ840o0ePNps3b87XQJZGAAEEEOi4QFUCi+AeffRRDgl1/BuUsMFeCywJVeQtBBBAAIHABKoUWD755BNz2WWXcdJtt7+DaYFFd7WNn2Cr57qKKOt5K/HltA0mBBBAAIH6CFQpsKjXNm3aZMaNG8c5LN38CqcFlnjgGOpzAks3e5htI4AAAp0XqFpgkSA3juv896hpi0Wv/MkTYnQ5NBMCCCCAQH0EqhhY1Hvc6bbL3+Hly5dnvqdKnqCi+7SobCYEEEAAgXoJEFjq1d+0FgEEEEAAgSAFQg4s+/btM2PHjjXDhw8f9Bg0whJk71BpBBBAAAEEEIgECCx8ERBAAAEEEECg5wVCDiytcBlhaaXDZwgggAACCAQmQGAJrMOoLgIIIIAAAnUUILDUsddpMwIIIIAAAoEJEFgC6zCqiwACCCCAQB0FCCx17HXajAACCCCAQGACBJbAOozqIoAAAgggUEcBAksde502I4AAAgggEJgAgSWwDqO6CCCAAAII1FGAwFLHXqfNCCCAAAIIBCZAYAmsw6guAggggAACdRQgsNSx12kzAggggAACgQkQWALrMKqLAAIIIIBAHQUILHXsddoctEB/f7+ZOnVq9KfK9SfLuzF99NFHZtSoUWbevHnd2DzbRACBGgoQWGrY6Z1o8vLly82MGTPMpEmTUh9TpkwxW7du7UR1KrUNAkulupPGIIBARgECS0YoFssuoBDSKqjEPyO0ZHe1S1YlsKxcudIMHz7cLFq0yDaNOQIIIJAqQGBJpeGDogJLlizJHFgUXhRa+vr6Mj1WrFhhjh49WrRqlViPwFKJbqQRCCCQU4DAkhMsxMU7vYPPG1jiIy5Zns+ePbvWoYXAEuL/QuqMAAJDFSCwDFUwgPUVIHROSaemsgOLQk3e9uzZs8fcd9995txzz40OQ2iu13rfnXbs2GHuuecec8EFF0TLjhw50sycOdP87W9/a1rUnng6f/58o5Gfa665xowYMcKcddZZ5pZbbomWP3HihFm8eLG56KKLmra7f//+prJ08urYsWPNxo0bm+p5+eWXm1deecWcOnWqsXyrwOK2U9t95JFHCge806dPR20bN25cU/3feuutxJNuDx48aH75y1+aMWPGRMvL4qabbjJr165t1N8eCtLhoPgjfmhoYGDAvPzyy2bixImRp5aTxdKlS40+Y0IAgfoJEFhq0Oc2QOTdyRelsdvLMlpSdBltI+u0bds2c+mll0Y7vttuu83cf//95vrrr4/Cxfjx483u3bsbRW3YsCEKFwops2bNipbVXK+181egsJMNLF/4whfMF7/4xWh5BQ/tWLWDVdl2Xc312Ve/+tXosx/84AdGYcZO+kxhR2Vpfb3+zne+E21X7z/99NNG4UFTWmDRf+bRo0dH69i623ZOnz7dHDlyxG4u01zb03a1feth26B66n29tpMc1WaFFF3FJOc777zTnH/++dH6Ciqa9u7dGwVOBSk53XXXXdFr9ZMmBRKtq88UlO69997oYUPTgw8+SGiJpPgHgXoJEFhq0N/xANGJ0BLfXtFA0m69PIHl0UcfjXZ+L774YqO3tTNeuHBh9P6CBQui90+ePBntGDVS8sEHHzSW1ZM//vGP0Q5aoyl2soFFIWTz5s327ShQaERGO9yvfe1r5pNPPml8dujQIXPDDTdEoxNa307a8Wv5xx57rGlnvG7duigoKSxt2bIlWjwpsMTfs8tp4Xg7NTqRZ1I5CkDatoKcnRS0NDql+sYDyxNPPBGNEr322mt20Wj+3nvvmfPOOy8apYqHNDvSEh9Z0QqyV/DRNuKjKdbu4osvNjbcNG2IFwggUGkBAkulu/fzxrkBouzQ4m6vXfgo8nmewKKQoZ1rPLBIRocv3njjDbN+/fq23wIbTuI76KT3bEHLli2Ltqmw5E62PnbEQZ+rXN3XJB5i7Ho2cKlMTfFwYu/DsmbNGnP22WebpO3t3LkzGmGaM2dOUwCw5afNbRtsoIsv16rt8eX0XHXU4S6NuqjudkoLLPbzpHkrp6TleQ8BBKojQGCpTl+mtiQpQJQZWpK2VySUtFonT2Cxh3nsoQrtiHft2tU4xOLCbd++vekcFoUd+8gaWFrtjDWioPKyBhZblkYcNCUFFlumrWfS3A0Mbrvd12qrW0+7TFpgUTiJn8MSr4e7fdsud4RF29BIjHsOiy0rLdjZujFHAIFqChBYqtmvTa1KCxBlhZa07bUKIHk/yxNYhGFDiD3pVjs/HcpxT2jVTlTLXHjhhdHJqjLSQzvVc845p+kQSNpOW9trtTO24ULL2KnVyIEOC+mQig1LrQKLbtan8z+SHjr5N35Ixm47bd6qTklt12ExHUKSn7avQ0Oye+6556LDSlkDi9qnQ2o6R2batGnm+eefj8pRWTqZmcCS1mO8j0C1BQgs1e7fqHVpAUI7gDKmtO3lDSWtls8bWGw7dbWNrqTRKItOxNVO0T3UEj9fxK6XtINOes8u7zOw2LKyjLDYtth6DGWu7cln1apVg4px265zZXRllQ5LrV69umn5vIeE1F5t96GHHho0CtYqRDVtlBcIIFA5AQJL5bp0cIOSAkRZYUVbT9peq/BR5LOsgeXw4cPmN7/5TTRC4o4uvP/++9Goia6gOX78eOq5FmqTDivpahc7yqH33J12XN6GjKTDHXlHWLKcw2J38t///vdzjaLE6+w+V/jRSFSWc1iSRn1seQqIV1xxReZzWJJ8VJZCka4oYoTFyjJHoF4CBJYa9LcbIMoMK+J0t1ckkLRbJ2tgUUjRTlyX5epeKfHpnXfeiQKLPRlVJ+Hqvh/aIcZPxNXVKbrEWDvvMgOLRhV05VL8niv2/BsdarFX/ySFgwMHDkR11wiHbLRzt5Pqf/fddzdd6WM/azXPc5WQnHUYR9uPXyWk9zVSI7u0Q0LuicI2KGnExl4lpPaoXPUjgaVVr/EZAtUVILBUt28bLYsHiLLDijYa31674FH086yBRfWxO3170q3Or7D3R9H5FrrCxk7PPPNMdDhCO0aFFHsvFHvfkfhO1/cIiwKLtqPQpDr+6Ec/is4H0ftZ7sNi26nldf8VlWHvg6J2uoHNtjltrpCQ5z4sGuWRm5wnT55sfvjDH0b1t3a6Ushe1aRtWj/VTW3Vn2fQpBGZCRMmRCFH96RRGzS3Pgo/2hYTAgjUS4DAUoP+tgGiE2FFnHZ7RcNIlvXyBBbVyd69VjtH7fA0103k3L8WrdENnYhrb/6m5TRCsGnTpuieKldeeWV04zOVaXe48VEX+3UqekhIl1nPnTs3qp/qqXq4JwYnjbDY7bp3uk1rp12+3VyhRUHH3rTNemh0SvdDibddy+p9BS6FC4UXjbroZns67OaOjGj5P/zhD9GhNi2vc1bspHYoqKgMfaZ746geCpRySTrUZtdljgAC1RQgsFSzX5tapZ17p8KKNtyLgaUJpAdfaMfv7tDLqKYNWdrpt3owglGGPmUigMBQBAgsQ9ELZN2q/fFDjcDkHWHp9a7qVGDR/Wd+/vOfJ172rENI9qERJSYEEECglwQILL3UGxWpCyMs+TuyU4Elf81YAwEEEOgNAQJLb/RDpWqhG51lOQ9lKMu4556EDkhgCb0HqT8CCJQtQGApW7im5eucGd11dSihJGldldnJ83Fq2n00GwEEEOg5AQJLz3UJFUIAAQQQQAABV4DA4orwGgEEEEAAAQR6ToDA0nNdQoUQQAABBBBAwBUgsLgivEYAAQQQQACBnhMIPbCcPHnSHDt2bNBjWM9JUyEEEEAAAQQQKCwQcmBJCysKMASWwl8JVkQAAQQQQKD3BEIOLEkjK/Y9AkvvfdeoEQIIIIAAAoUFCCyF6VgRAQQQQAABBDolQGDplDTbQQABBBBAAIHCAgSWwnSsiAACCCCAAAKdEiCwdEqa7SCAAAIIIIBAYQECS2E6VkQAAQQQQACBTgkQWDolzXYQQAABBBBAoLAAgaUwHSsigAACCCCAQKcECCydkmY7CCCAAAIIIFBYgMBSmI4VEUAAAQQQQKBTAgSWTkmzHQQQQAABBBAoLEBgKUzHiggggAACCCDQKQECS6ek2Q4CCCCAAAIIFBYgsBSmY0UEEEAAAQQQ6JQAgaVT0mwHAQQQQAABBAoLEFgK07EiAggggAACCHRKgMDSKWm2gwACCCCAAAKFBQgshelYEQEEEEAAAQQ6JRByYDl58qQ5duxY4mNYpwDZDgIIIIAAAgiULxByYJFOWmghsJT/3WELCCCAAAIIdEwg9MCSBkVgSZPhfQQQQAABBAIUILAE2GlUGQEEEEAAgboJEFjq1uO0FwEEEEAAgQAFCCwBdhpVRgABBBBAoG4CBJa69TjtRQABBBBAIEABAkuAnUaVEUAAAQQQqJsAgaVuPU57EUAAAQQQCFCAwBJgp1FlBBBAAAEE6iZAYKlbj9NeBBBAAAEEAhQgsATYaVQZAQQQQACBugkQWOrW47QXAQQQQACBAAUILAF2GlVGAAEEEECgbgIElrr1OO1FAAEEEEAgQAECS4CdRpURQAABBBComwCBpW49TnsRQAABBBAIUIDAEmCnUWUEEEAAAQTqJkBgqVuP014EEEAAAQQCFCCwBNhpVBkBBBBAAIG6CRBY6tbjtBcBBBBAAIEABQgsAXYaVUYAAQQQQKBuAgSWuvU47UUAAQQQQCBAAQJLgJ1GlRFAAAEEEKibAIGlbj1OexFAAAEEEAhQgMASYKdRZQQQQAABBOomQGCpW4/TXgQQQAABBAIUILAE2GlUGQEEEEAAgboJEFjq1uO0FwEEEEAAgQAFqhZYtm/fbu655x4zLMC+oMoIIIAAAgggkCJQlcBy+vRps3TpUjNy5EgzfPhwAktKf/M2AggggAACQQpUJbD85S9/icLKueeeaxYtWkRgCfLbSKURQAABBBBIEahCYBkYGDBz586NAsuf//znqKUcEkrpcN5GAAEEEEAgRIEqBJbDhw+byZMnm5tvvtkcPXo06gYCS4jfRuqMAAIIIIBAikAVAsvBgwfNxIkTCSwpfczbCCCAAAIIBC9QhcBiDwmdd9555r333ov6hBGW4L+aNAABBBBAAIEzAlUILGoNJ92e6VOeIYAAAgggUDmBqgQWLmuu3FeTBiGAAAIIIHBGoCqBxbaIG8dZCeYIIIAAAghUSKBqgcV2DeewWAnmCCCAAAIIVECAwFKBTqQJCCCAAAIIVF0g5MBy/PhxM3369OhW/Lodf/zBCEvVv7m0DwEEEECgVgIhBxZ11Lx585qCig0tBJZafY1pLAIIIIBA1QVCDyxp/UNgSZPhfQQQQAABBAIUILAE2GlUGQEEEEAAgboJEFjq1uO0FwEEEEAAgQAFCCwBdhpVRgABBBBAoG4CBJa69TjtRQABBBBAIEABAkuAnUaVEUAAAQQQqJsAgaVuPU57EUAAAQQQCFCAwBJgp1FlBBBAAAEE6iZAYKlbj9NeBBBAAAEEAhQgsATYaVQZAQQQQACBugkQWOrW47QXAQQQQACBAAUILAF2GlVGAAEEEECgbgIElrr1OO1FAAEEEEAgQAECS4CdRpURQAABBBComwCBpW49TnsRQAABBBAIUIDAEmCnUWUEEEAAAQTqJkBgqVuP014EEEAAAQQCFCCwBNhpVBkBBBBAAIG6CRBY6tbjtBcBBBBAAIEABQgsAXYaVUYAAQQQQKBuAgSWuvU47UUAAQQQQCBAAQJLgJ1GlRFAAAEEEKibAIGlbj1OexFAAAEEEAhQgMASYKdRZQQQQAABBOomQGCpW4/TXgQQQAABBAIUILAE2GlUGQEEEEAAgboJEFjq1uO0FwEEEEAAgQAFCCwBdhpVRgABBBBAoG4CBJa69TjtRQABBBBAIEABAkuAnUaVEUAAAQQQqJsAgaVuPU57EUAAAQQQCFCAwBJgp1FlBBBAAAEE6iZAYKlbj9NeBBBAAAEEAhQgsATYaVQZAQQQQACBugkQWOrW47QXAQQQQACBAAUILAF2GlVGAAEEEECgbgJVCCwrV640w4cPb3oMq1tH0l4EEEAAAQSqLFDVwPL/AWaSwGUcmfF+AAAAAElFTkSuQmCC)\n",
        "\n",
        "\n",
        "> 클릭 없이 코드로 하려면 다음을 수행.\n",
        "> ```python\n",
        "from google.colab import drive\n",
        "drive.mount('/content/drive')\n",
        "```\n",
        "> unmount는 다음 코드로 \n",
        ">\n",
        "> ```python\n",
        "drive.flush_and_unmount()\n",
        "print('All changes made in this colab session should now be visible in Drive.')\n",
        "```\n",
        "> \n",
        "> PyDrive를 사용하면 보다 자유로운 구글드라이브 접근이 가능함.\n"
      ]
    },
    {
      "cell_type": "code",
      "metadata": {
        "id": "QRTECCkedzBX",
        "colab_type": "code",
        "outputId": "270bca98-d58e-4865-df5d-2befec849151",
        "colab": {
          "base_uri": "https://localhost:8080/",
          "height": 36
        }
      },
      "source": [
        "from google.colab import drive\n",
        "drive.mount('/content/drive')"
      ],
      "execution_count": 5,
      "outputs": [
        {
          "output_type": "stream",
          "text": [
            "Drive already mounted at /content/drive; to attempt to forcibly remount, call drive.mount(\"/content/drive\", force_remount=True).\n"
          ],
          "name": "stdout"
        }
      ]
    },
    {
      "cell_type": "code",
      "metadata": {
        "id": "kB4q4RGwGSJN",
        "colab_type": "code",
        "colab": {}
      },
      "source": [
        "!cp  \"./drive/My Drive/Classroom/Machine Learning 2020/lifesat.csv\" ./lifesat.csv"
      ],
      "execution_count": 0,
      "outputs": []
    },
    {
      "cell_type": "markdown",
      "metadata": {
        "id": "WA26GY0yOSgb",
        "colab_type": "text"
      },
      "source": [
        "위의 코드셀은 구글 드라이브로부터 파일을 읽어서 현재 pwd로 가져오는 명령어를 수행함.\n",
        "\n",
        "만약,\n",
        "\n",
        "`cp: cannot stat './drive/My Drive/[10]Lecture/MachineLearning/datasets/lifesat/lifesat.csv': No such file or directory`\n",
        "\n",
        "위와 같은 메시지를 봤다면, 현재 구글 드라이브가 제대로 마운트 되지 않은 경우이거나 경로명이 틀렸거나 지정한 파일이 없는 경우임.\n",
        "\n",
        "**파일이 존재하는지 확인하고 경로를 확인할 것**\n",
        "\n",
        "정상적으로 수행시 colab의 현재 디렉토리에 `lifesat.csv`가 만들어짐.\n",
        "\n",
        "> * 일반적으로 colab의 pwd(present working directory)는 `/content/`임.\n",
        "> * bash가 기본 셀이며 셀명령어는 !를 치고 입력하면 됨. 예: `!ls`"
      ]
    },
    {
      "cell_type": "code",
      "metadata": {
        "id": "RwEjhEw1O_wB",
        "colab_type": "code",
        "outputId": "85407d54-9d8a-428f-bc22-2137ae04534a",
        "colab": {
          "base_uri": "https://localhost:8080/",
          "height": 55
        }
      },
      "source": [
        "!ls\n",
        "!pwd"
      ],
      "execution_count": 8,
      "outputs": [
        {
          "output_type": "stream",
          "text": [
            "drive  lifesat.csv  sample_data\n",
            "/content\n"
          ],
          "name": "stdout"
        }
      ]
    },
    {
      "cell_type": "markdown",
      "metadata": {
        "id": "_OBE-xWsPDhB",
        "colab_type": "text"
      },
      "source": [
        "## colab의 파일을 로컬로 가져오기.\n",
        "\n",
        "다음의 코드셀을 참조할 것.\n",
        "\n",
        "> ipad에선 안됨. ==;; \n",
        "> * 2020.4.6 현재 ipad에선 셀 명령어들을 이용하여 구글 드라이브로 복사시키는 형태를 취해야 함. "
      ]
    },
    {
      "cell_type": "code",
      "metadata": {
        "id": "xyrae5ShGKdn",
        "colab_type": "code",
        "colab": {}
      },
      "source": [
        "#The code below doesn't work on the ipad.\n",
        "from google.colab import files\n",
        "\n",
        "#files.download(os.path.join('datasets','lifesat','lifesat.csv'))\n",
        "files.download('lifesat.csv')"
      ],
      "execution_count": 0,
      "outputs": []
    },
    {
      "cell_type": "code",
      "metadata": {
        "id": "H_fhu0nUP_db",
        "colab_type": "code",
        "colab": {}
      },
      "source": [
        ""
      ],
      "execution_count": 0,
      "outputs": []
    },
    {
      "cell_type": "markdown",
      "metadata": {
        "id": "XhNRPKnXP_9q",
        "colab_type": "text"
      },
      "source": [
        "## 구글 드라이브 파일을 파이썬 코드에서 접근 (읽기 예제)\n",
        "\n",
        "구글 드라이브 마운트를 통해 해당 파일들에 쉽게 접근 가능함."
      ]
    },
    {
      "cell_type": "code",
      "metadata": {
        "id": "_hCdDbE8GclC",
        "colab_type": "code",
        "outputId": "fe842f5c-562f-439c-c790-fd314b737959",
        "colab": {
          "base_uri": "https://localhost:8080/",
          "height": 596
        }
      },
      "source": [
        "import os\n",
        "\n",
        "fstr = os.path.join('drive','My Drive',\n",
        "                    'Classroom','Machine Learning 2020',\n",
        "                    'lifesat.csv')\n",
        "with open(fstr) as f:\n",
        "  content = f.read()\n",
        "  print(content)\n",
        "\n"
      ],
      "execution_count": 11,
      "outputs": [
        {
          "output_type": "stream",
          "text": [
            "Country,GDP per capita,Life satisfaction\n",
            "Russia,9054.914,6.0\n",
            "Turkey,9437.372,5.6\n",
            "Hungary,12239.893999999998,4.9\n",
            "Poland,12495.333999999999,5.8\n",
            "Slovak Republic,15991.736,6.1\n",
            "Estonia,17288.083,5.6\n",
            "Greece,18064.288,4.8\n",
            "Portugal,19121.592,5.1\n",
            "Slovenia,20732.482,5.7\n",
            "Spain,25864.721,6.5\n",
            "Korea,27195.197,5.8\n",
            "Italy,29866.581000000002,6.0\n",
            "Japan,32485.545,5.9\n",
            "Israel,35343.336,7.4\n",
            "New Zealand,37044.891,7.3\n",
            "France,37675.006,6.5\n",
            "Belgium,40106.632000000005,6.9\n",
            "Germany,40996.511,7.0\n",
            "Finland,41973.988,7.4\n",
            "Canada,43331.960999999996,7.3\n",
            "Netherlands,43603.115,7.3\n",
            "Austria,43724.030999999995,6.9\n",
            "United Kingdom,43770.687999999995,6.8\n",
            "Sweden,49866.265999999996,7.2\n",
            "Iceland,50854.583,7.5\n",
            "Australia,50961.865,7.3\n",
            "Ireland,51350.744000000006,7.0\n",
            "Denmark,52114.165,7.5\n",
            "United States,55805.204000000005,7.2\n",
            "\n"
          ],
          "name": "stdout"
        }
      ]
    },
    {
      "cell_type": "markdown",
      "metadata": {
        "id": "KkuHw6X0QPtG",
        "colab_type": "text"
      },
      "source": [
        "## 구글 드라이브 파일을 파이썬 코드에서 접근 (쓰기 예제)\n",
        "\n",
        "쓰는 것도 간단히 처리됨."
      ]
    },
    {
      "cell_type": "code",
      "metadata": {
        "id": "YHT-uFyRHH8J",
        "colab_type": "code",
        "outputId": "f181d145-d09b-4237-931c-2a0fc3dd525b",
        "colab": {
          "base_uri": "https://localhost:8080/",
          "height": 36
        }
      },
      "source": [
        "fstr = os.path.join('drive','My Drive',\n",
        "                    'Classroom','Machine Learning 2020',\n",
        "                    'foo.txt')\n",
        "\n",
        "with open(fstr, 'w') as f:\n",
        "  f.write('Hello Google Drive!')\n",
        "!cat \"./drive/My Drive/Classroom/Machine Learning 2020/foo.txt\""
      ],
      "execution_count": 13,
      "outputs": [
        {
          "output_type": "stream",
          "text": [
            "Hello Google Drive!"
          ],
          "name": "stdout"
        }
      ]
    },
    {
      "cell_type": "markdown",
      "metadata": {
        "id": "MAj-UCALQd0e",
        "colab_type": "text"
      },
      "source": [
        "## 단점\n",
        "\n",
        "위의 방법은 파일 읽기, 쓰기, 이동 만 지원.\n",
        "\n",
        "프로그램 코딩을 통해,\n",
        "* **공유 설정** 또는 \n",
        "* **기타 메타데이터**를 \n",
        "\n",
        "수정하려면 다른 방법이 필요함.\n"
      ]
    },
    {
      "cell_type": "code",
      "metadata": {
        "id": "_WLKJVnIwueY",
        "colab_type": "code",
        "colab": {
          "base_uri": "https://localhost:8080/",
          "height": 55
        },
        "outputId": "87b5daeb-3586-43a8-9172-1f3b4e001b99"
      },
      "source": [
        "!cd /content/drive/My\\ drive\n",
        "!pwd"
      ],
      "execution_count": 35,
      "outputs": [
        {
          "output_type": "stream",
          "text": [
            "/bin/bash: line 0: cd: /content/drive/My drive: No such file or directory\n",
            "/content/drive/My Drive/Classroom/Machine Learning 2020\n"
          ],
          "name": "stdout"
        }
      ]
    },
    {
      "cell_type": "code",
      "metadata": {
        "id": "DZ-cZqtzMA76",
        "colab_type": "code",
        "outputId": "25f4baaf-c9f0-4688-de56-1972e3103c25",
        "colab": {
          "base_uri": "https://localhost:8080/",
          "height": 36
        }
      },
      "source": [
        "cd /content/drive/My\\ Drive"
      ],
      "execution_count": 16,
      "outputs": [
        {
          "output_type": "stream",
          "text": [
            "/content/drive/My Drive\n"
          ],
          "name": "stdout"
        }
      ]
    },
    {
      "cell_type": "code",
      "metadata": {
        "id": "vurHIOuHVoST",
        "colab_type": "code",
        "outputId": "edd8819e-8ebb-45a4-922a-c32d7122b0dd",
        "colab": {
          "base_uri": "https://localhost:8080/",
          "height": 36
        }
      },
      "source": [
        "cd /content/drive/My\\ Drive/Classroom/Machine Learning 2020"
      ],
      "execution_count": 27,
      "outputs": [
        {
          "output_type": "stream",
          "text": [
            "/content/drive/My Drive/Classroom/Machine Learning 2020\n"
          ],
          "name": "stdout"
        }
      ]
    },
    {
      "cell_type": "code",
      "metadata": {
        "id": "8P5iJEAZWEW3",
        "colab_type": "code",
        "outputId": "3e924437-f07f-4198-9797-7d5f98822631",
        "colab": {
          "base_uri": "https://localhost:8080/",
          "height": 36
        }
      },
      "source": [
        "ls"
      ],
      "execution_count": 28,
      "outputs": [
        {
          "output_type": "stream",
          "text": [
            "'[기계학습]201738418_배지현_self introduce.pptx'   foo.txt   lifesat.csv\n"
          ],
          "name": "stdout"
        }
      ]
    },
    {
      "cell_type": "code",
      "metadata": {
        "id": "i05o5h0CRCcO",
        "colab_type": "code",
        "colab": {}
      },
      "source": [
        "import os, sys\n",
        "from google.colab import drive\n",
        "\n",
        "fstr = os.path.join('drive','My Drive','Classroom',\n",
        "                    'Machine Learning 2020')\n",
        "nb_path = '/content/ml'\n",
        "#os.symlink(fstr,nb_path)\n",
        "sys.path.insert(0,nb_path)"
      ],
      "execution_count": 0,
      "outputs": []
    },
    {
      "cell_type": "code",
      "metadata": {
        "id": "GU9MwXuxS0Hz",
        "colab_type": "code",
        "outputId": "c72f8257-2742-4bd2-8a0f-a9520e081509",
        "colab": {
          "base_uri": "https://localhost:8080/",
          "height": 92
        }
      },
      "source": [
        "!ls -al"
      ],
      "execution_count": 30,
      "outputs": [
        {
          "output_type": "stream",
          "text": [
            "total 19643\n",
            "-rw------- 1 root root 20112731 Apr  9 14:14 '[기계학습]201738418_배지현_self introduce.pptx'\n",
            "-rw------- 1 root root       19 Apr 10 05:32  foo.txt\n",
            "-rw------- 1 root root      784 Apr 10 05:12  lifesat.csv\n"
          ],
          "name": "stdout"
        }
      ]
    },
    {
      "cell_type": "code",
      "metadata": {
        "id": "8c_zW0wTTW-J",
        "colab_type": "code",
        "outputId": "0828413c-dd7a-472c-a655-a09fc229cdd7",
        "colab": {
          "base_uri": "https://localhost:8080/",
          "height": 73
        }
      },
      "source": [
        "!cd ./ml\n",
        "!ls\n",
        "!pwd"
      ],
      "execution_count": 31,
      "outputs": [
        {
          "output_type": "stream",
          "text": [
            "/bin/bash: line 0: cd: ./ml: No such file or directory\n",
            "'[기계학습]201738418_배지현_self introduce.pptx'   foo.txt   lifesat.csv\n",
            "/content/drive/My Drive/Classroom/Machine Learning 2020\n"
          ],
          "name": "stdout"
        }
      ]
    },
    {
      "cell_type": "code",
      "metadata": {
        "id": "VQVbKymRTb-T",
        "colab_type": "code",
        "colab": {
          "base_uri": "https://localhost:8080/",
          "height": 36
        },
        "outputId": "d8afa884-f467-4d8c-92e8-40affab74dac"
      },
      "source": [
        "pwd"
      ],
      "execution_count": 36,
      "outputs": [
        {
          "output_type": "execute_result",
          "data": {
            "text/plain": [
              "'/content/drive/My Drive/Classroom/Machine Learning 2020'"
            ]
          },
          "metadata": {
            "tags": []
          },
          "execution_count": 36
        }
      ]
    },
    {
      "cell_type": "code",
      "metadata": {
        "id": "34A325uAx36i",
        "colab_type": "code",
        "colab": {
          "base_uri": "https://localhost:8080/",
          "height": 36
        },
        "outputId": "8181c073-6eaa-48f4-a5ff-affca7f753a0"
      },
      "source": [
        "cd /content/"
      ],
      "execution_count": 37,
      "outputs": [
        {
          "output_type": "stream",
          "text": [
            "/content\n"
          ],
          "name": "stdout"
        }
      ]
    },
    {
      "cell_type": "code",
      "metadata": {
        "id": "S95kfkigyHWk",
        "colab_type": "code",
        "colab": {}
      },
      "source": [
        ""
      ],
      "execution_count": 0,
      "outputs": []
    }
  ]
}